{
  "nbformat": 4,
  "nbformat_minor": 0,
  "metadata": {
    "colab": {
      "name": "Untitled1.ipynb",
      "provenance": [],
      "collapsed_sections": [],
      "authorship_tag": "ABX9TyNEa3NTFPnOBQnYd5Nyc4EJ",
      "include_colab_link": true
    },
    "kernelspec": {
      "name": "python3",
      "display_name": "Python 3"
    }
  },
  "cells": [
    {
      "cell_type": "markdown",
      "metadata": {
        "id": "view-in-github",
        "colab_type": "text"
      },
      "source": [
        "<a href=\"https://colab.research.google.com/github/marcodgr/itii-seance6/blob/main/Untitled1.ipynb\" target=\"_parent\"><img src=\"https://colab.research.google.com/assets/colab-badge.svg\" alt=\"Open In Colab\"/></a>"
      ]
    },
    {
      "cell_type": "code",
      "metadata": {
        "colab": {
          "base_uri": "https://localhost:8080/"
        },
        "id": "jLbt2jMx9SI6",
        "outputId": "9da0c2d1-c528-4005-87c9-d97a03f1834b"
      },
      "source": [
        "import math\n",
        "def integrate(a,b,n):\n",
        "  res=0;\n",
        "\n",
        "  stop=a\n",
        "  i=1\n",
        "  while(stop<b):\n",
        "    res = res+f(a+(i*((b-a)/n)))\n",
        "    stop=stop+n;\n",
        "    i=i+n\n",
        "  return ((b-a)/n)*res;\n",
        "\n",
        "def integrate2(a,b,n):\n",
        "  res=0;\n",
        "  stop=a\n",
        "  i=1\n",
        "  while(stop<b):\n",
        "    if(stop==0):\n",
        "      break;\n",
        "    res = res+g(a+(i*((b-a)/n)))\n",
        "    stop=stop+n;\n",
        "    i=i+n\n",
        "  return ((b-a)/n)*res;\n",
        "\n",
        "def f(x):\n",
        "  return (3*x*x*x)+(2*x)-1\n",
        "\n",
        "def g(x):\n",
        "  return math.cos(1/x);\n",
        "\n",
        "print(integrate(0,10,0.001))\n",
        "print(integrate2(-1,1,0.001))\n",
        "\n",
        "\n"
      ],
      "execution_count": 40,
      "outputs": [
        {
          "output_type": "stream",
          "text": [
            "1.0981998091200926e+23\n",
            "3999999.8331108917\n"
          ],
          "name": "stdout"
        }
      ]
    },
    {
      "cell_type": "code",
      "metadata": {
        "colab": {
          "base_uri": "https://localhost:8080/"
        },
        "id": "DVMfyYSNEr_X",
        "outputId": "f57689c5-acd5-4d04-b461-2782ea129777"
      },
      "source": [
        "def pythonIntegrateTrapeze(a,b,n):\n",
        "  pas=n;\n",
        "  stop = a\n",
        "  res=0\n",
        "\n",
        "  while(stop<b):\n",
        "    res= res+ f(a+(stop-a)*((b-a)/n))+f(a+stop*((b-a)/n));\n",
        "    stop = stop+n;\n",
        "      \n",
        "  return ((b-a)/(2*n))*res\n",
        "\n",
        "def f(x):\n",
        "  return x*math.sin(2*x);\n",
        "\n",
        "print(pythonIntegrateTrapeze(0,math.sqrt(math.pi),0.5))"
      ],
      "execution_count": 49,
      "outputs": [
        {
          "output_type": "stream",
          "text": [
            "-11.029129124059176\n"
          ],
          "name": "stdout"
        }
      ]
    }
  ]
}